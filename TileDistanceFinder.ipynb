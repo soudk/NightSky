{
 "cells": [
  {
   "cell_type": "code",
   "execution_count": 51,
   "metadata": {},
   "outputs": [],
   "source": [
    "import numpy as np\n",
    "import matplotlib.pyplot as plt\n",
    "import cv2\n",
    "import os\n",
    "import sys\n",
    "\n",
    "os.chdir(\"/Users/Bacon/Documents/Current Courses/Hackathon/tiles\")\n",
    "\n",
    "sys.setrecursionlimit(100000)# It sets recursion limit to 10000."
   ]
  },
  {
   "cell_type": "code",
   "execution_count": 52,
   "metadata": {},
   "outputs": [],
   "source": [
    "def StarWalk(theImg, curRow, curCol, avgCol, avgRow, numOfPix):\n",
    "   # print(\"Walk\")\n",
    "    #First, we start with our recursion break condition\n",
    "    if theImg[curRow,curCol] ==0:\n",
    "        return avgCol, avgRow, numOfPix\n",
    "\n",
    "    # Update recursive variables\n",
    "    avgCol += curCol      #Adding x and y to the average\n",
    "    avgRow += curRow\n",
    "    numOfPix += 1\n",
    "    theImg[curRow,curCol] = 0\n",
    "\n",
    "\n",
    "    # We now recurse \n",
    "    # Up\n",
    "    try:\n",
    "        rightAvgCol, rightAvgRow, rightNumOfPix = StarWalk(theImg, curRow+1, curCol, avgCol, avgRow, numOfPix)\n",
    "    except IndexError:\n",
    "        print(\"Edge case\")\n",
    "        \n",
    "    # Right\n",
    "    try:\n",
    "        rightAvgCol, rightAvgRow, rightNumOfPix = StarWalk(theImg, curRow, curCol+1, avgCol, avgRow, numOfPix)\n",
    "    except IndexError:\n",
    "        print(\"Edge case\")\n",
    "        \n",
    "    # Left\n",
    "    try:\n",
    "        leftAvgCol, leftAvgRow, leftNumOfPix = StarWalk(theImg, curRow, curCol-1, avgCol, avgRow, numOfPix)\n",
    "    except IndexError:\n",
    "        print(\"Edge case\")\n",
    "        \n",
    "    # Down\n",
    "    try:\n",
    "        downAvgCol, downAvgRow, downNumOfPix = StarWalk(theImg, curRow-1, curCol, avgCol, avgRow, numOfPix)\n",
    "    except IndexError:\n",
    "        print(\"Edge case\")\n",
    "        \n",
    "    # Add the values\n",
    "    avgCol = avgCol + rightAvgCol + leftAvgCol + downAvgCol\n",
    "    avgRow = avgRow + rightAvgRow + leftAvgRow + downAvgRow\n",
    "    numOfPix = numOfPix + rightNumOfPix + leftNumOfPix + downNumOfPix\n",
    "\n",
    "    return avgCol, avgRow, numOfPix"
   ]
  },
  {
   "cell_type": "code",
   "execution_count": 53,
   "metadata": {},
   "outputs": [],
   "source": [
    "def GetDistance(inputimg):############ Thresholding #########\n",
    "    print(\"Getting distances\")\n",
    "    scale = 0.5\n",
    "\n",
    "    # normalize\n",
    "    img = (inputimg/np.amax(inputimg)).copy()\n",
    "\n",
    "    # Threshold\n",
    "    threshedImg = (img > scale).astype(int) * 255\n",
    "\n",
    "\n",
    "    ############ Look for stars #########\n",
    "    totalRows = len(threshedImg)\n",
    "    totalColumns = len(threshedImg[0])\n",
    "\n",
    "    curRow = 0\n",
    "    curCol = 0\n",
    "\n",
    "    starArray = []\n",
    "\n",
    "    # Check the rows\n",
    "    while curRow < totalRows:\n",
    "      # Check the column\n",
    "\n",
    "        while curCol < totalColumns:\n",
    "            # Found a star\n",
    "            if (threshedImg[curRow,curCol] != 0) :\n",
    "               # print(\"\\nSTAR\")\n",
    "              # Put together some variables to pass into StarWalk\n",
    "                averageCol = 0\n",
    "                averageRow = 0 \n",
    "                numOfPix = 0\n",
    "\n",
    "              # Begin the recursive function\n",
    "                averageCol, averageRow, numOfPix = StarWalk(threshedImg, curRow, curCol, averageCol, averageRow, numOfPix)\n",
    "               # print(\"STAR DONE\")\n",
    "\n",
    "              # Take the actual average\n",
    "                averageCol = averageCol / numOfPix\n",
    "                averageRow = averageRow / numOfPix\n",
    "\n",
    "              # Save the values\n",
    "                starArray.append((averageCol, averageRow, numOfPix))\n",
    "            curCol+=1\n",
    "\n",
    "        curRow+=1\n",
    "        curCol=0\n",
    "\n",
    "\n",
    "    print(\"Star Count:\", len(starArray))\n",
    "\n",
    "    ####### Determine Mutual Distances #######\n",
    "\n",
    "    # Make arrays for position info\n",
    "    xVals = []\n",
    "    yVals = []\n",
    "    #Extract position data\n",
    "    for star in starArray:\n",
    "        xVals.append(star[0])\n",
    "        yVals.append(star[1])\n",
    "\n",
    "    # Get the differences\n",
    "    xDifferences = [abs(i-j) for i in xVals for j in xVals if i != j]\n",
    "    yDifferences = [abs(i-j) for i in yVals for j in yVals if i != j]\n",
    "\n",
    "    # Get the actual distances\n",
    "    index = 0\n",
    "    distances = []\n",
    "\n",
    "    ######### Add distance components in quadrature ########\n",
    "    while index < len(xDifferences) and index < len(yDifferences) :\n",
    "        \n",
    "        dist = (xDifferences[index]**2 + yDifferences[index]**2 )**(0.5)\n",
    "        distances.append(dist)\n",
    "        index+=1\n",
    "    return distances\n",
    "\n"
   ]
  },
  {
   "cell_type": "code",
   "execution_count": 57,
   "metadata": {},
   "outputs": [
    {
     "ename": "AttributeError",
     "evalue": "'NoneType' object has no attribute 'copy'",
     "output_type": "error",
     "traceback": [
      "\u001b[0;31m---------------------------------------------------------------------------\u001b[0m",
      "\u001b[0;31mAttributeError\u001b[0m                            Traceback (most recent call last)",
      "\u001b[0;32m<ipython-input-57-38dbedb3fb3b>\u001b[0m in \u001b[0;36m<module>\u001b[0;34m()\u001b[0m\n\u001b[1;32m      9\u001b[0m \u001b[0mAllTiles\u001b[0m \u001b[0;34m=\u001b[0m\u001b[0;34m[\u001b[0m\u001b[0;34m]\u001b[0m\u001b[0;34m\u001b[0m\u001b[0;34m\u001b[0m\u001b[0m\n\u001b[1;32m     10\u001b[0m \u001b[0;32mfor\u001b[0m \u001b[0mname\u001b[0m \u001b[0;32min\u001b[0m \u001b[0mfilepaths\u001b[0m\u001b[0;34m:\u001b[0m\u001b[0;34m\u001b[0m\u001b[0;34m\u001b[0m\u001b[0m\n\u001b[0;32m---> 11\u001b[0;31m     \u001b[0mimg\u001b[0m \u001b[0;34m=\u001b[0m \u001b[0mcv2\u001b[0m\u001b[0;34m.\u001b[0m\u001b[0mimread\u001b[0m\u001b[0;34m(\u001b[0m\u001b[0mname\u001b[0m\u001b[0;34m,\u001b[0m \u001b[0mcv2\u001b[0m\u001b[0;34m.\u001b[0m\u001b[0mIMREAD_GRAYSCALE\u001b[0m\u001b[0;34m)\u001b[0m\u001b[0;34m.\u001b[0m\u001b[0mcopy\u001b[0m\u001b[0;34m(\u001b[0m\u001b[0;34m)\u001b[0m\u001b[0;34m\u001b[0m\u001b[0;34m\u001b[0m\u001b[0m\n\u001b[0m\u001b[1;32m     12\u001b[0m     \u001b[0mAllTiles\u001b[0m\u001b[0;34m.\u001b[0m\u001b[0mappend\u001b[0m\u001b[0;34m(\u001b[0m\u001b[0mimg\u001b[0m\u001b[0;34m)\u001b[0m\u001b[0;34m\u001b[0m\u001b[0;34m\u001b[0m\u001b[0m\n\u001b[1;32m     13\u001b[0m \u001b[0;34m\u001b[0m\u001b[0m\n",
      "\u001b[0;31mAttributeError\u001b[0m: 'NoneType' object has no attribute 'copy'"
     ]
    }
   ],
   "source": [
    "# LOAD TILES FILENAMES\n",
    "files = os.listdir(os.getcwd())\n",
    "filepaths = []\n",
    "for path in files:\n",
    "    if path.endswith((\".jpg\")):\n",
    "        filepaths.append(path)   \n",
    "\n",
    "# load images\n",
    "AllTiles =[]\n",
    "for name in filepaths:\n",
    "    img = cv2.imread(name, cv2.IMREAD_GRAYSCALE).copy()\n",
    "    AllTiles.append(img)\n",
    "    \n",
    "DistancesAndLabels=[]\n",
    "\n",
    "#Iterate and get all those distances, with the label attached\n",
    "TileIndex=0\n",
    "while TileIndex < len(AllTiles):\n",
    "    # get current filepath\n",
    "    filepath = filepaths[TileIndex]\n",
    "    # Create filename\n",
    "    index = filepath.find('.')\n",
    "    label = filepath[:index] + '_distances.csv'\n",
    "    print(\"\\n\",label)\n",
    "\n",
    "    # Get distances\n",
    "    distances = GetDistance(AllTiles[TileIndex])\n",
    "    \n",
    "    # Save to harddrive\n",
    "    np.savetxt(filepath, distances, delimiter=',')\n",
    "    #DistancesAndLabels.append((label, distances))\n",
    "    \n",
    "    TileIndex+=1"
   ]
  },
  {
   "cell_type": "code",
   "execution_count": null,
   "metadata": {
    "scrolled": true
   },
   "outputs": [],
   "source": []
  },
  {
   "cell_type": "code",
   "execution_count": 56,
   "metadata": {},
   "outputs": [
    {
     "data": {
      "text/plain": [
       "'tile_36_DEC2.jpg'"
      ]
     },
     "execution_count": 56,
     "metadata": {},
     "output_type": "execute_result"
    }
   ],
   "source": [
    "filepaths[1]"
   ]
  },
  {
   "cell_type": "code",
   "execution_count": null,
   "metadata": {},
   "outputs": [],
   "source": []
  }
 ],
 "metadata": {
  "kernelspec": {
   "display_name": "Python 3",
   "language": "python",
   "name": "python3"
  },
  "language_info": {
   "codemirror_mode": {
    "name": "ipython",
    "version": 3
   },
   "file_extension": ".py",
   "mimetype": "text/x-python",
   "name": "python",
   "nbconvert_exporter": "python",
   "pygments_lexer": "ipython3",
   "version": "3.7.3"
  }
 },
 "nbformat": 4,
 "nbformat_minor": 2
}
